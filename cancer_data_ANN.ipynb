{
 "cells": [
  {
   "cell_type": "markdown",
   "metadata": {},
   "source": [
    "#### AIM"
   ]
  },
  {
   "cell_type": "markdown",
   "metadata": {},
   "source": [
    "##### This is a small yet useful kernel for providing an introduction to Artificial Neural Networks for people who want to begin their journey into the field of deep learning. For this, I have used Keras which is a high-level Neural Networks API built on top of low level neural networks APIs like Tensorflow and Theano. As it is high-level, many things are already taken care of therefore it is easy to work with and a great tool to start with."
   ]
  },
  {
   "cell_type": "markdown",
   "metadata": {},
   "source": [
    "#### What is Deep learning?\n"
   ]
  },
  {
   "cell_type": "markdown",
   "metadata": {},
   "source": [
    "###### Deep Learning is a subfield of machine learning concerned with algorithms inspired by the structure and function of the brain called artificial neural networks. Deep learning is a machine learning technique that teaches computers to do what comes naturally to humans: learn by example. Deep learning is a key technology behind driverless cars, enabling them to recognize a stop sign, or to distinguish a pedestrian from a lamppost. It is the key to voice control in consumer devices like phones, tablets, TVs, and hands-free speakers. Deep learning is getting lots of attention lately and for good reason. It’s achieving results that were not possible before."
   ]
  },
  {
   "cell_type": "markdown",
   "metadata": {},
   "source": [
    "## What are artificial neural networks?"
   ]
  },
  {
   "cell_type": "markdown",
   "metadata": {},
   "source": [
    "###### An artificial neuron network (ANN) is a computational model based on the structure and functions of biological neural networks. Information that flows through the network affects the structure of the ANN because a neural network changes - or learns, in a sense - based on that input and output. ANNs are considered nonlinear statistical data modeling tools where the complex relationships between inputs and outputs are modeled or patterns are found. ANN is also known as a neural network."
   ]
  },
  {
   "cell_type": "code",
   "execution_count": 64,
   "metadata": {},
   "outputs": [],
   "source": [
    "# import libraries\n",
    "import pandas as pd\n",
    "import numpy as np\n",
    "import matplotlib.pyplot as plt\n",
    "import seaborn as sns\n",
    "%matplotlib inline"
   ]
  },
  {
   "cell_type": "code",
   "execution_count": 65,
   "metadata": {},
   "outputs": [],
   "source": [
    "# Import data\n",
    "data=pd.read_csv(\"C:/Users/guren/Desktop/data.csv\")"
   ]
  },
  {
   "cell_type": "code",
   "execution_count": 66,
   "metadata": {},
   "outputs": [
    {
     "data": {
      "text/html": [
       "<div>\n",
       "<style scoped>\n",
       "    .dataframe tbody tr th:only-of-type {\n",
       "        vertical-align: middle;\n",
       "    }\n",
       "\n",
       "    .dataframe tbody tr th {\n",
       "        vertical-align: top;\n",
       "    }\n",
       "\n",
       "    .dataframe thead th {\n",
       "        text-align: right;\n",
       "    }\n",
       "</style>\n",
       "<table border=\"1\" class=\"dataframe\">\n",
       "  <thead>\n",
       "    <tr style=\"text-align: right;\">\n",
       "      <th></th>\n",
       "      <th>id</th>\n",
       "      <th>diagnosis</th>\n",
       "      <th>radius_mean</th>\n",
       "      <th>texture_mean</th>\n",
       "      <th>perimeter_mean</th>\n",
       "      <th>area_mean</th>\n",
       "      <th>smoothness_mean</th>\n",
       "      <th>compactness_mean</th>\n",
       "      <th>concavity_mean</th>\n",
       "      <th>concave points_mean</th>\n",
       "      <th>...</th>\n",
       "      <th>texture_worst</th>\n",
       "      <th>perimeter_worst</th>\n",
       "      <th>area_worst</th>\n",
       "      <th>smoothness_worst</th>\n",
       "      <th>compactness_worst</th>\n",
       "      <th>concavity_worst</th>\n",
       "      <th>concave points_worst</th>\n",
       "      <th>symmetry_worst</th>\n",
       "      <th>fractal_dimension_worst</th>\n",
       "      <th>Unnamed: 32</th>\n",
       "    </tr>\n",
       "  </thead>\n",
       "  <tbody>\n",
       "    <tr>\n",
       "      <th>0</th>\n",
       "      <td>842302</td>\n",
       "      <td>M</td>\n",
       "      <td>17.99</td>\n",
       "      <td>10.38</td>\n",
       "      <td>122.80</td>\n",
       "      <td>1001.0</td>\n",
       "      <td>0.11840</td>\n",
       "      <td>0.27760</td>\n",
       "      <td>0.3001</td>\n",
       "      <td>0.14710</td>\n",
       "      <td>...</td>\n",
       "      <td>17.33</td>\n",
       "      <td>184.60</td>\n",
       "      <td>2019.0</td>\n",
       "      <td>0.1622</td>\n",
       "      <td>0.6656</td>\n",
       "      <td>0.7119</td>\n",
       "      <td>0.2654</td>\n",
       "      <td>0.4601</td>\n",
       "      <td>0.11890</td>\n",
       "      <td>NaN</td>\n",
       "    </tr>\n",
       "    <tr>\n",
       "      <th>1</th>\n",
       "      <td>842517</td>\n",
       "      <td>M</td>\n",
       "      <td>20.57</td>\n",
       "      <td>17.77</td>\n",
       "      <td>132.90</td>\n",
       "      <td>1326.0</td>\n",
       "      <td>0.08474</td>\n",
       "      <td>0.07864</td>\n",
       "      <td>0.0869</td>\n",
       "      <td>0.07017</td>\n",
       "      <td>...</td>\n",
       "      <td>23.41</td>\n",
       "      <td>158.80</td>\n",
       "      <td>1956.0</td>\n",
       "      <td>0.1238</td>\n",
       "      <td>0.1866</td>\n",
       "      <td>0.2416</td>\n",
       "      <td>0.1860</td>\n",
       "      <td>0.2750</td>\n",
       "      <td>0.08902</td>\n",
       "      <td>NaN</td>\n",
       "    </tr>\n",
       "    <tr>\n",
       "      <th>2</th>\n",
       "      <td>84300903</td>\n",
       "      <td>M</td>\n",
       "      <td>19.69</td>\n",
       "      <td>21.25</td>\n",
       "      <td>130.00</td>\n",
       "      <td>1203.0</td>\n",
       "      <td>0.10960</td>\n",
       "      <td>0.15990</td>\n",
       "      <td>0.1974</td>\n",
       "      <td>0.12790</td>\n",
       "      <td>...</td>\n",
       "      <td>25.53</td>\n",
       "      <td>152.50</td>\n",
       "      <td>1709.0</td>\n",
       "      <td>0.1444</td>\n",
       "      <td>0.4245</td>\n",
       "      <td>0.4504</td>\n",
       "      <td>0.2430</td>\n",
       "      <td>0.3613</td>\n",
       "      <td>0.08758</td>\n",
       "      <td>NaN</td>\n",
       "    </tr>\n",
       "    <tr>\n",
       "      <th>3</th>\n",
       "      <td>84348301</td>\n",
       "      <td>M</td>\n",
       "      <td>11.42</td>\n",
       "      <td>20.38</td>\n",
       "      <td>77.58</td>\n",
       "      <td>386.1</td>\n",
       "      <td>0.14250</td>\n",
       "      <td>0.28390</td>\n",
       "      <td>0.2414</td>\n",
       "      <td>0.10520</td>\n",
       "      <td>...</td>\n",
       "      <td>26.50</td>\n",
       "      <td>98.87</td>\n",
       "      <td>567.7</td>\n",
       "      <td>0.2098</td>\n",
       "      <td>0.8663</td>\n",
       "      <td>0.6869</td>\n",
       "      <td>0.2575</td>\n",
       "      <td>0.6638</td>\n",
       "      <td>0.17300</td>\n",
       "      <td>NaN</td>\n",
       "    </tr>\n",
       "    <tr>\n",
       "      <th>4</th>\n",
       "      <td>84358402</td>\n",
       "      <td>M</td>\n",
       "      <td>20.29</td>\n",
       "      <td>14.34</td>\n",
       "      <td>135.10</td>\n",
       "      <td>1297.0</td>\n",
       "      <td>0.10030</td>\n",
       "      <td>0.13280</td>\n",
       "      <td>0.1980</td>\n",
       "      <td>0.10430</td>\n",
       "      <td>...</td>\n",
       "      <td>16.67</td>\n",
       "      <td>152.20</td>\n",
       "      <td>1575.0</td>\n",
       "      <td>0.1374</td>\n",
       "      <td>0.2050</td>\n",
       "      <td>0.4000</td>\n",
       "      <td>0.1625</td>\n",
       "      <td>0.2364</td>\n",
       "      <td>0.07678</td>\n",
       "      <td>NaN</td>\n",
       "    </tr>\n",
       "  </tbody>\n",
       "</table>\n",
       "<p>5 rows × 33 columns</p>\n",
       "</div>"
      ],
      "text/plain": [
       "         id diagnosis  radius_mean  texture_mean  perimeter_mean  area_mean  \\\n",
       "0    842302         M        17.99         10.38          122.80     1001.0   \n",
       "1    842517         M        20.57         17.77          132.90     1326.0   \n",
       "2  84300903         M        19.69         21.25          130.00     1203.0   \n",
       "3  84348301         M        11.42         20.38           77.58      386.1   \n",
       "4  84358402         M        20.29         14.34          135.10     1297.0   \n",
       "\n",
       "   smoothness_mean  compactness_mean  concavity_mean  concave points_mean  \\\n",
       "0          0.11840           0.27760          0.3001              0.14710   \n",
       "1          0.08474           0.07864          0.0869              0.07017   \n",
       "2          0.10960           0.15990          0.1974              0.12790   \n",
       "3          0.14250           0.28390          0.2414              0.10520   \n",
       "4          0.10030           0.13280          0.1980              0.10430   \n",
       "\n",
       "   ...  texture_worst  perimeter_worst  area_worst  smoothness_worst  \\\n",
       "0  ...          17.33           184.60      2019.0            0.1622   \n",
       "1  ...          23.41           158.80      1956.0            0.1238   \n",
       "2  ...          25.53           152.50      1709.0            0.1444   \n",
       "3  ...          26.50            98.87       567.7            0.2098   \n",
       "4  ...          16.67           152.20      1575.0            0.1374   \n",
       "\n",
       "   compactness_worst  concavity_worst  concave points_worst  symmetry_worst  \\\n",
       "0             0.6656           0.7119                0.2654          0.4601   \n",
       "1             0.1866           0.2416                0.1860          0.2750   \n",
       "2             0.4245           0.4504                0.2430          0.3613   \n",
       "3             0.8663           0.6869                0.2575          0.6638   \n",
       "4             0.2050           0.4000                0.1625          0.2364   \n",
       "\n",
       "   fractal_dimension_worst  Unnamed: 32  \n",
       "0                  0.11890          NaN  \n",
       "1                  0.08902          NaN  \n",
       "2                  0.08758          NaN  \n",
       "3                  0.17300          NaN  \n",
       "4                  0.07678          NaN  \n",
       "\n",
       "[5 rows x 33 columns]"
      ]
     },
     "execution_count": 66,
     "metadata": {},
     "output_type": "execute_result"
    }
   ],
   "source": [
    "data.head()"
   ]
  },
  {
   "cell_type": "code",
   "execution_count": 67,
   "metadata": {},
   "outputs": [
    {
     "data": {
      "text/plain": [
       "Index(['id', 'diagnosis', 'radius_mean', 'texture_mean', 'perimeter_mean',\n",
       "       'area_mean', 'smoothness_mean', 'compactness_mean', 'concavity_mean',\n",
       "       'concave points_mean', 'symmetry_mean', 'fractal_dimension_mean',\n",
       "       'radius_se', 'texture_se', 'perimeter_se', 'area_se', 'smoothness_se',\n",
       "       'compactness_se', 'concavity_se', 'concave points_se', 'symmetry_se',\n",
       "       'fractal_dimension_se', 'radius_worst', 'texture_worst',\n",
       "       'perimeter_worst', 'area_worst', 'smoothness_worst',\n",
       "       'compactness_worst', 'concavity_worst', 'concave points_worst',\n",
       "       'symmetry_worst', 'fractal_dimension_worst', 'Unnamed: 32'],\n",
       "      dtype='object')"
      ]
     },
     "execution_count": 67,
     "metadata": {},
     "output_type": "execute_result"
    }
   ],
   "source": [
    "# check columns\n",
    "data.columns"
   ]
  },
  {
   "cell_type": "code",
   "execution_count": 68,
   "metadata": {},
   "outputs": [],
   "source": [
    "# delete column\n",
    "del data['Unnamed: 32']"
   ]
  },
  {
   "cell_type": "code",
   "execution_count": 69,
   "metadata": {},
   "outputs": [
    {
     "data": {
      "text/plain": [
       "id                         0\n",
       "diagnosis                  0\n",
       "radius_mean                0\n",
       "texture_mean               0\n",
       "perimeter_mean             0\n",
       "area_mean                  0\n",
       "smoothness_mean            0\n",
       "compactness_mean           0\n",
       "concavity_mean             0\n",
       "concave points_mean        0\n",
       "symmetry_mean              0\n",
       "fractal_dimension_mean     0\n",
       "radius_se                  0\n",
       "texture_se                 0\n",
       "perimeter_se               0\n",
       "area_se                    0\n",
       "smoothness_se              0\n",
       "compactness_se             0\n",
       "concavity_se               0\n",
       "concave points_se          0\n",
       "symmetry_se                0\n",
       "fractal_dimension_se       0\n",
       "radius_worst               0\n",
       "texture_worst              0\n",
       "perimeter_worst            0\n",
       "area_worst                 0\n",
       "smoothness_worst           0\n",
       "compactness_worst          0\n",
       "concavity_worst            0\n",
       "concave points_worst       0\n",
       "symmetry_worst             0\n",
       "fractal_dimension_worst    0\n",
       "dtype: int64"
      ]
     },
     "execution_count": 69,
     "metadata": {},
     "output_type": "execute_result"
    }
   ],
   "source": [
    "data.isnull().sum()"
   ]
  },
  {
   "cell_type": "code",
   "execution_count": 70,
   "metadata": {},
   "outputs": [
    {
     "data": {
      "text/html": [
       "<div>\n",
       "<style scoped>\n",
       "    .dataframe tbody tr th:only-of-type {\n",
       "        vertical-align: middle;\n",
       "    }\n",
       "\n",
       "    .dataframe tbody tr th {\n",
       "        vertical-align: top;\n",
       "    }\n",
       "\n",
       "    .dataframe thead th {\n",
       "        text-align: right;\n",
       "    }\n",
       "</style>\n",
       "<table border=\"1\" class=\"dataframe\">\n",
       "  <thead>\n",
       "    <tr style=\"text-align: right;\">\n",
       "      <th></th>\n",
       "      <th>id</th>\n",
       "      <th>radius_mean</th>\n",
       "      <th>texture_mean</th>\n",
       "      <th>perimeter_mean</th>\n",
       "      <th>area_mean</th>\n",
       "      <th>smoothness_mean</th>\n",
       "      <th>compactness_mean</th>\n",
       "      <th>concavity_mean</th>\n",
       "      <th>concave points_mean</th>\n",
       "      <th>symmetry_mean</th>\n",
       "      <th>...</th>\n",
       "      <th>radius_worst</th>\n",
       "      <th>texture_worst</th>\n",
       "      <th>perimeter_worst</th>\n",
       "      <th>area_worst</th>\n",
       "      <th>smoothness_worst</th>\n",
       "      <th>compactness_worst</th>\n",
       "      <th>concavity_worst</th>\n",
       "      <th>concave points_worst</th>\n",
       "      <th>symmetry_worst</th>\n",
       "      <th>fractal_dimension_worst</th>\n",
       "    </tr>\n",
       "  </thead>\n",
       "  <tbody>\n",
       "    <tr>\n",
       "      <th>count</th>\n",
       "      <td>5.690000e+02</td>\n",
       "      <td>569.000000</td>\n",
       "      <td>569.000000</td>\n",
       "      <td>569.000000</td>\n",
       "      <td>569.000000</td>\n",
       "      <td>569.000000</td>\n",
       "      <td>569.000000</td>\n",
       "      <td>569.000000</td>\n",
       "      <td>569.000000</td>\n",
       "      <td>569.000000</td>\n",
       "      <td>...</td>\n",
       "      <td>569.000000</td>\n",
       "      <td>569.000000</td>\n",
       "      <td>569.000000</td>\n",
       "      <td>569.000000</td>\n",
       "      <td>569.000000</td>\n",
       "      <td>569.000000</td>\n",
       "      <td>569.000000</td>\n",
       "      <td>569.000000</td>\n",
       "      <td>569.000000</td>\n",
       "      <td>569.000000</td>\n",
       "    </tr>\n",
       "    <tr>\n",
       "      <th>mean</th>\n",
       "      <td>3.037183e+07</td>\n",
       "      <td>14.127292</td>\n",
       "      <td>19.289649</td>\n",
       "      <td>91.969033</td>\n",
       "      <td>654.889104</td>\n",
       "      <td>0.096360</td>\n",
       "      <td>0.104341</td>\n",
       "      <td>0.088799</td>\n",
       "      <td>0.048919</td>\n",
       "      <td>0.181162</td>\n",
       "      <td>...</td>\n",
       "      <td>16.269190</td>\n",
       "      <td>25.677223</td>\n",
       "      <td>107.261213</td>\n",
       "      <td>880.583128</td>\n",
       "      <td>0.132369</td>\n",
       "      <td>0.254265</td>\n",
       "      <td>0.272188</td>\n",
       "      <td>0.114606</td>\n",
       "      <td>0.290076</td>\n",
       "      <td>0.083946</td>\n",
       "    </tr>\n",
       "    <tr>\n",
       "      <th>std</th>\n",
       "      <td>1.250206e+08</td>\n",
       "      <td>3.524049</td>\n",
       "      <td>4.301036</td>\n",
       "      <td>24.298981</td>\n",
       "      <td>351.914129</td>\n",
       "      <td>0.014064</td>\n",
       "      <td>0.052813</td>\n",
       "      <td>0.079720</td>\n",
       "      <td>0.038803</td>\n",
       "      <td>0.027414</td>\n",
       "      <td>...</td>\n",
       "      <td>4.833242</td>\n",
       "      <td>6.146258</td>\n",
       "      <td>33.602542</td>\n",
       "      <td>569.356993</td>\n",
       "      <td>0.022832</td>\n",
       "      <td>0.157336</td>\n",
       "      <td>0.208624</td>\n",
       "      <td>0.065732</td>\n",
       "      <td>0.061867</td>\n",
       "      <td>0.018061</td>\n",
       "    </tr>\n",
       "    <tr>\n",
       "      <th>min</th>\n",
       "      <td>8.670000e+03</td>\n",
       "      <td>6.981000</td>\n",
       "      <td>9.710000</td>\n",
       "      <td>43.790000</td>\n",
       "      <td>143.500000</td>\n",
       "      <td>0.052630</td>\n",
       "      <td>0.019380</td>\n",
       "      <td>0.000000</td>\n",
       "      <td>0.000000</td>\n",
       "      <td>0.106000</td>\n",
       "      <td>...</td>\n",
       "      <td>7.930000</td>\n",
       "      <td>12.020000</td>\n",
       "      <td>50.410000</td>\n",
       "      <td>185.200000</td>\n",
       "      <td>0.071170</td>\n",
       "      <td>0.027290</td>\n",
       "      <td>0.000000</td>\n",
       "      <td>0.000000</td>\n",
       "      <td>0.156500</td>\n",
       "      <td>0.055040</td>\n",
       "    </tr>\n",
       "    <tr>\n",
       "      <th>25%</th>\n",
       "      <td>8.692180e+05</td>\n",
       "      <td>11.700000</td>\n",
       "      <td>16.170000</td>\n",
       "      <td>75.170000</td>\n",
       "      <td>420.300000</td>\n",
       "      <td>0.086370</td>\n",
       "      <td>0.064920</td>\n",
       "      <td>0.029560</td>\n",
       "      <td>0.020310</td>\n",
       "      <td>0.161900</td>\n",
       "      <td>...</td>\n",
       "      <td>13.010000</td>\n",
       "      <td>21.080000</td>\n",
       "      <td>84.110000</td>\n",
       "      <td>515.300000</td>\n",
       "      <td>0.116600</td>\n",
       "      <td>0.147200</td>\n",
       "      <td>0.114500</td>\n",
       "      <td>0.064930</td>\n",
       "      <td>0.250400</td>\n",
       "      <td>0.071460</td>\n",
       "    </tr>\n",
       "    <tr>\n",
       "      <th>50%</th>\n",
       "      <td>9.060240e+05</td>\n",
       "      <td>13.370000</td>\n",
       "      <td>18.840000</td>\n",
       "      <td>86.240000</td>\n",
       "      <td>551.100000</td>\n",
       "      <td>0.095870</td>\n",
       "      <td>0.092630</td>\n",
       "      <td>0.061540</td>\n",
       "      <td>0.033500</td>\n",
       "      <td>0.179200</td>\n",
       "      <td>...</td>\n",
       "      <td>14.970000</td>\n",
       "      <td>25.410000</td>\n",
       "      <td>97.660000</td>\n",
       "      <td>686.500000</td>\n",
       "      <td>0.131300</td>\n",
       "      <td>0.211900</td>\n",
       "      <td>0.226700</td>\n",
       "      <td>0.099930</td>\n",
       "      <td>0.282200</td>\n",
       "      <td>0.080040</td>\n",
       "    </tr>\n",
       "    <tr>\n",
       "      <th>75%</th>\n",
       "      <td>8.813129e+06</td>\n",
       "      <td>15.780000</td>\n",
       "      <td>21.800000</td>\n",
       "      <td>104.100000</td>\n",
       "      <td>782.700000</td>\n",
       "      <td>0.105300</td>\n",
       "      <td>0.130400</td>\n",
       "      <td>0.130700</td>\n",
       "      <td>0.074000</td>\n",
       "      <td>0.195700</td>\n",
       "      <td>...</td>\n",
       "      <td>18.790000</td>\n",
       "      <td>29.720000</td>\n",
       "      <td>125.400000</td>\n",
       "      <td>1084.000000</td>\n",
       "      <td>0.146000</td>\n",
       "      <td>0.339100</td>\n",
       "      <td>0.382900</td>\n",
       "      <td>0.161400</td>\n",
       "      <td>0.317900</td>\n",
       "      <td>0.092080</td>\n",
       "    </tr>\n",
       "    <tr>\n",
       "      <th>max</th>\n",
       "      <td>9.113205e+08</td>\n",
       "      <td>28.110000</td>\n",
       "      <td>39.280000</td>\n",
       "      <td>188.500000</td>\n",
       "      <td>2501.000000</td>\n",
       "      <td>0.163400</td>\n",
       "      <td>0.345400</td>\n",
       "      <td>0.426800</td>\n",
       "      <td>0.201200</td>\n",
       "      <td>0.304000</td>\n",
       "      <td>...</td>\n",
       "      <td>36.040000</td>\n",
       "      <td>49.540000</td>\n",
       "      <td>251.200000</td>\n",
       "      <td>4254.000000</td>\n",
       "      <td>0.222600</td>\n",
       "      <td>1.058000</td>\n",
       "      <td>1.252000</td>\n",
       "      <td>0.291000</td>\n",
       "      <td>0.663800</td>\n",
       "      <td>0.207500</td>\n",
       "    </tr>\n",
       "  </tbody>\n",
       "</table>\n",
       "<p>8 rows × 31 columns</p>\n",
       "</div>"
      ],
      "text/plain": [
       "                 id  radius_mean  texture_mean  perimeter_mean    area_mean  \\\n",
       "count  5.690000e+02   569.000000    569.000000      569.000000   569.000000   \n",
       "mean   3.037183e+07    14.127292     19.289649       91.969033   654.889104   \n",
       "std    1.250206e+08     3.524049      4.301036       24.298981   351.914129   \n",
       "min    8.670000e+03     6.981000      9.710000       43.790000   143.500000   \n",
       "25%    8.692180e+05    11.700000     16.170000       75.170000   420.300000   \n",
       "50%    9.060240e+05    13.370000     18.840000       86.240000   551.100000   \n",
       "75%    8.813129e+06    15.780000     21.800000      104.100000   782.700000   \n",
       "max    9.113205e+08    28.110000     39.280000      188.500000  2501.000000   \n",
       "\n",
       "       smoothness_mean  compactness_mean  concavity_mean  concave points_mean  \\\n",
       "count       569.000000        569.000000      569.000000           569.000000   \n",
       "mean          0.096360          0.104341        0.088799             0.048919   \n",
       "std           0.014064          0.052813        0.079720             0.038803   \n",
       "min           0.052630          0.019380        0.000000             0.000000   \n",
       "25%           0.086370          0.064920        0.029560             0.020310   \n",
       "50%           0.095870          0.092630        0.061540             0.033500   \n",
       "75%           0.105300          0.130400        0.130700             0.074000   \n",
       "max           0.163400          0.345400        0.426800             0.201200   \n",
       "\n",
       "       symmetry_mean  ...  radius_worst  texture_worst  perimeter_worst  \\\n",
       "count     569.000000  ...    569.000000     569.000000       569.000000   \n",
       "mean        0.181162  ...     16.269190      25.677223       107.261213   \n",
       "std         0.027414  ...      4.833242       6.146258        33.602542   \n",
       "min         0.106000  ...      7.930000      12.020000        50.410000   \n",
       "25%         0.161900  ...     13.010000      21.080000        84.110000   \n",
       "50%         0.179200  ...     14.970000      25.410000        97.660000   \n",
       "75%         0.195700  ...     18.790000      29.720000       125.400000   \n",
       "max         0.304000  ...     36.040000      49.540000       251.200000   \n",
       "\n",
       "        area_worst  smoothness_worst  compactness_worst  concavity_worst  \\\n",
       "count   569.000000        569.000000         569.000000       569.000000   \n",
       "mean    880.583128          0.132369           0.254265         0.272188   \n",
       "std     569.356993          0.022832           0.157336         0.208624   \n",
       "min     185.200000          0.071170           0.027290         0.000000   \n",
       "25%     515.300000          0.116600           0.147200         0.114500   \n",
       "50%     686.500000          0.131300           0.211900         0.226700   \n",
       "75%    1084.000000          0.146000           0.339100         0.382900   \n",
       "max    4254.000000          0.222600           1.058000         1.252000   \n",
       "\n",
       "       concave points_worst  symmetry_worst  fractal_dimension_worst  \n",
       "count            569.000000      569.000000               569.000000  \n",
       "mean               0.114606        0.290076                 0.083946  \n",
       "std                0.065732        0.061867                 0.018061  \n",
       "min                0.000000        0.156500                 0.055040  \n",
       "25%                0.064930        0.250400                 0.071460  \n",
       "50%                0.099930        0.282200                 0.080040  \n",
       "75%                0.161400        0.317900                 0.092080  \n",
       "max                0.291000        0.663800                 0.207500  \n",
       "\n",
       "[8 rows x 31 columns]"
      ]
     },
     "execution_count": 70,
     "metadata": {},
     "output_type": "execute_result"
    }
   ],
   "source": [
    "data.describe()"
   ]
  },
  {
   "cell_type": "code",
   "execution_count": 71,
   "metadata": {},
   "outputs": [
    {
     "name": "stdout",
     "output_type": "stream",
     "text": [
      "<class 'pandas.core.frame.DataFrame'>\n",
      "RangeIndex: 569 entries, 0 to 568\n",
      "Data columns (total 32 columns):\n",
      "id                         569 non-null int64\n",
      "diagnosis                  569 non-null object\n",
      "radius_mean                569 non-null float64\n",
      "texture_mean               569 non-null float64\n",
      "perimeter_mean             569 non-null float64\n",
      "area_mean                  569 non-null float64\n",
      "smoothness_mean            569 non-null float64\n",
      "compactness_mean           569 non-null float64\n",
      "concavity_mean             569 non-null float64\n",
      "concave points_mean        569 non-null float64\n",
      "symmetry_mean              569 non-null float64\n",
      "fractal_dimension_mean     569 non-null float64\n",
      "radius_se                  569 non-null float64\n",
      "texture_se                 569 non-null float64\n",
      "perimeter_se               569 non-null float64\n",
      "area_se                    569 non-null float64\n",
      "smoothness_se              569 non-null float64\n",
      "compactness_se             569 non-null float64\n",
      "concavity_se               569 non-null float64\n",
      "concave points_se          569 non-null float64\n",
      "symmetry_se                569 non-null float64\n",
      "fractal_dimension_se       569 non-null float64\n",
      "radius_worst               569 non-null float64\n",
      "texture_worst              569 non-null float64\n",
      "perimeter_worst            569 non-null float64\n",
      "area_worst                 569 non-null float64\n",
      "smoothness_worst           569 non-null float64\n",
      "compactness_worst          569 non-null float64\n",
      "concavity_worst            569 non-null float64\n",
      "concave points_worst       569 non-null float64\n",
      "symmetry_worst             569 non-null float64\n",
      "fractal_dimension_worst    569 non-null float64\n",
      "dtypes: float64(30), int64(1), object(1)\n",
      "memory usage: 142.3+ KB\n"
     ]
    }
   ],
   "source": [
    "data.info()"
   ]
  },
  {
   "cell_type": "code",
   "execution_count": 72,
   "metadata": {},
   "outputs": [],
   "source": [
    "X = data.iloc[:, 2:].values\n",
    "y = data.iloc[:, 1].values"
   ]
  },
  {
   "cell_type": "code",
   "execution_count": 73,
   "metadata": {},
   "outputs": [
    {
     "data": {
      "text/plain": [
       "array([[1.799e+01, 1.038e+01, 1.228e+02, ..., 2.654e-01, 4.601e-01,\n",
       "        1.189e-01],\n",
       "       [2.057e+01, 1.777e+01, 1.329e+02, ..., 1.860e-01, 2.750e-01,\n",
       "        8.902e-02],\n",
       "       [1.969e+01, 2.125e+01, 1.300e+02, ..., 2.430e-01, 3.613e-01,\n",
       "        8.758e-02],\n",
       "       ...,\n",
       "       [1.660e+01, 2.808e+01, 1.083e+02, ..., 1.418e-01, 2.218e-01,\n",
       "        7.820e-02],\n",
       "       [2.060e+01, 2.933e+01, 1.401e+02, ..., 2.650e-01, 4.087e-01,\n",
       "        1.240e-01],\n",
       "       [7.760e+00, 2.454e+01, 4.792e+01, ..., 0.000e+00, 2.871e-01,\n",
       "        7.039e-02]])"
      ]
     },
     "execution_count": 73,
     "metadata": {},
     "output_type": "execute_result"
    }
   ],
   "source": [
    "X"
   ]
  },
  {
   "cell_type": "code",
   "execution_count": 74,
   "metadata": {},
   "outputs": [
    {
     "data": {
      "text/plain": [
       "array(['M', 'M', 'M', 'M', 'M', 'M', 'M', 'M', 'M', 'M', 'M', 'M', 'M',\n",
       "       'M', 'M', 'M', 'M', 'M', 'M', 'B', 'B', 'B', 'M', 'M', 'M', 'M',\n",
       "       'M', 'M', 'M', 'M', 'M', 'M', 'M', 'M', 'M', 'M', 'M', 'B', 'M',\n",
       "       'M', 'M', 'M', 'M', 'M', 'M', 'M', 'B', 'M', 'B', 'B', 'B', 'B',\n",
       "       'B', 'M', 'M', 'B', 'M', 'M', 'B', 'B', 'B', 'B', 'M', 'B', 'M',\n",
       "       'M', 'B', 'B', 'B', 'B', 'M', 'B', 'M', 'M', 'B', 'M', 'B', 'M',\n",
       "       'M', 'B', 'B', 'B', 'M', 'M', 'B', 'M', 'M', 'M', 'B', 'B', 'B',\n",
       "       'M', 'B', 'B', 'M', 'M', 'B', 'B', 'B', 'M', 'M', 'B', 'B', 'B',\n",
       "       'B', 'M', 'B', 'B', 'M', 'B', 'B', 'B', 'B', 'B', 'B', 'B', 'B',\n",
       "       'M', 'M', 'M', 'B', 'M', 'M', 'B', 'B', 'B', 'M', 'M', 'B', 'M',\n",
       "       'B', 'M', 'M', 'B', 'M', 'M', 'B', 'B', 'M', 'B', 'B', 'M', 'B',\n",
       "       'B', 'B', 'B', 'M', 'B', 'B', 'B', 'B', 'B', 'B', 'B', 'B', 'B',\n",
       "       'M', 'B', 'B', 'B', 'B', 'M', 'M', 'B', 'M', 'B', 'B', 'M', 'M',\n",
       "       'B', 'B', 'M', 'M', 'B', 'B', 'B', 'B', 'M', 'B', 'B', 'M', 'M',\n",
       "       'M', 'B', 'M', 'B', 'M', 'B', 'B', 'B', 'M', 'B', 'B', 'M', 'M',\n",
       "       'B', 'M', 'M', 'M', 'M', 'B', 'M', 'M', 'M', 'B', 'M', 'B', 'M',\n",
       "       'B', 'B', 'M', 'B', 'M', 'M', 'M', 'M', 'B', 'B', 'M', 'M', 'B',\n",
       "       'B', 'B', 'M', 'B', 'B', 'B', 'B', 'B', 'M', 'M', 'B', 'B', 'M',\n",
       "       'B', 'B', 'M', 'M', 'B', 'M', 'B', 'B', 'B', 'B', 'M', 'B', 'B',\n",
       "       'B', 'B', 'B', 'M', 'B', 'M', 'M', 'M', 'M', 'M', 'M', 'M', 'M',\n",
       "       'M', 'M', 'M', 'M', 'M', 'M', 'B', 'B', 'B', 'B', 'B', 'B', 'M',\n",
       "       'B', 'M', 'B', 'B', 'M', 'B', 'B', 'M', 'B', 'M', 'M', 'B', 'B',\n",
       "       'B', 'B', 'B', 'B', 'B', 'B', 'B', 'B', 'B', 'B', 'B', 'M', 'B',\n",
       "       'B', 'M', 'B', 'M', 'B', 'B', 'B', 'B', 'B', 'B', 'B', 'B', 'B',\n",
       "       'B', 'B', 'B', 'B', 'B', 'M', 'B', 'B', 'B', 'M', 'B', 'M', 'B',\n",
       "       'B', 'B', 'B', 'M', 'M', 'M', 'B', 'B', 'B', 'B', 'M', 'B', 'M',\n",
       "       'B', 'M', 'B', 'B', 'B', 'M', 'B', 'B', 'B', 'B', 'B', 'B', 'B',\n",
       "       'M', 'M', 'M', 'B', 'B', 'B', 'B', 'B', 'B', 'B', 'B', 'B', 'B',\n",
       "       'B', 'M', 'M', 'B', 'M', 'M', 'M', 'B', 'M', 'M', 'B', 'B', 'B',\n",
       "       'B', 'B', 'M', 'B', 'B', 'B', 'B', 'B', 'M', 'B', 'B', 'B', 'M',\n",
       "       'B', 'B', 'M', 'M', 'B', 'B', 'B', 'B', 'B', 'B', 'M', 'B', 'B',\n",
       "       'B', 'B', 'B', 'B', 'B', 'M', 'B', 'B', 'B', 'B', 'B', 'M', 'B',\n",
       "       'B', 'M', 'B', 'B', 'B', 'B', 'B', 'B', 'B', 'B', 'B', 'B', 'B',\n",
       "       'B', 'M', 'B', 'M', 'M', 'B', 'M', 'B', 'B', 'B', 'B', 'B', 'M',\n",
       "       'B', 'B', 'M', 'B', 'M', 'B', 'B', 'M', 'B', 'M', 'B', 'B', 'B',\n",
       "       'B', 'B', 'B', 'B', 'B', 'M', 'M', 'B', 'B', 'B', 'B', 'B', 'B',\n",
       "       'M', 'B', 'B', 'B', 'B', 'B', 'B', 'B', 'B', 'B', 'B', 'M', 'B',\n",
       "       'B', 'B', 'B', 'B', 'B', 'B', 'M', 'B', 'M', 'B', 'B', 'M', 'B',\n",
       "       'B', 'B', 'B', 'B', 'M', 'M', 'B', 'M', 'B', 'M', 'B', 'B', 'B',\n",
       "       'B', 'B', 'M', 'B', 'B', 'M', 'B', 'M', 'B', 'M', 'M', 'B', 'B',\n",
       "       'B', 'M', 'B', 'B', 'B', 'B', 'B', 'B', 'B', 'B', 'B', 'B', 'B',\n",
       "       'M', 'B', 'M', 'M', 'B', 'B', 'B', 'B', 'B', 'B', 'B', 'B', 'B',\n",
       "       'B', 'B', 'B', 'B', 'B', 'B', 'B', 'B', 'B', 'B', 'B', 'B', 'B',\n",
       "       'B', 'B', 'B', 'M', 'M', 'M', 'M', 'M', 'M', 'B'], dtype=object)"
      ]
     },
     "execution_count": 74,
     "metadata": {},
     "output_type": "execute_result"
    }
   ],
   "source": [
    "y"
   ]
  },
  {
   "cell_type": "code",
   "execution_count": 75,
   "metadata": {},
   "outputs": [],
   "source": [
    "# Encoding categorical data\n",
    "from sklearn.preprocessing import LabelEncoder"
   ]
  },
  {
   "cell_type": "code",
   "execution_count": 76,
   "metadata": {},
   "outputs": [],
   "source": [
    "labes=LabelEncoder()"
   ]
  },
  {
   "cell_type": "code",
   "execution_count": 77,
   "metadata": {},
   "outputs": [],
   "source": [
    "y=labes.fit_transform(y)"
   ]
  },
  {
   "cell_type": "code",
   "execution_count": 78,
   "metadata": {},
   "outputs": [
    {
     "data": {
      "text/plain": [
       "array([1, 1, 1, 1, 1, 1, 1, 1, 1, 1, 1, 1, 1, 1, 1, 1, 1, 1, 1, 0, 0, 0,\n",
       "       1, 1, 1, 1, 1, 1, 1, 1, 1, 1, 1, 1, 1, 1, 1, 0, 1, 1, 1, 1, 1, 1,\n",
       "       1, 1, 0, 1, 0, 0, 0, 0, 0, 1, 1, 0, 1, 1, 0, 0, 0, 0, 1, 0, 1, 1,\n",
       "       0, 0, 0, 0, 1, 0, 1, 1, 0, 1, 0, 1, 1, 0, 0, 0, 1, 1, 0, 1, 1, 1,\n",
       "       0, 0, 0, 1, 0, 0, 1, 1, 0, 0, 0, 1, 1, 0, 0, 0, 0, 1, 0, 0, 1, 0,\n",
       "       0, 0, 0, 0, 0, 0, 0, 1, 1, 1, 0, 1, 1, 0, 0, 0, 1, 1, 0, 1, 0, 1,\n",
       "       1, 0, 1, 1, 0, 0, 1, 0, 0, 1, 0, 0, 0, 0, 1, 0, 0, 0, 0, 0, 0, 0,\n",
       "       0, 0, 1, 0, 0, 0, 0, 1, 1, 0, 1, 0, 0, 1, 1, 0, 0, 1, 1, 0, 0, 0,\n",
       "       0, 1, 0, 0, 1, 1, 1, 0, 1, 0, 1, 0, 0, 0, 1, 0, 0, 1, 1, 0, 1, 1,\n",
       "       1, 1, 0, 1, 1, 1, 0, 1, 0, 1, 0, 0, 1, 0, 1, 1, 1, 1, 0, 0, 1, 1,\n",
       "       0, 0, 0, 1, 0, 0, 0, 0, 0, 1, 1, 0, 0, 1, 0, 0, 1, 1, 0, 1, 0, 0,\n",
       "       0, 0, 1, 0, 0, 0, 0, 0, 1, 0, 1, 1, 1, 1, 1, 1, 1, 1, 1, 1, 1, 1,\n",
       "       1, 1, 0, 0, 0, 0, 0, 0, 1, 0, 1, 0, 0, 1, 0, 0, 1, 0, 1, 1, 0, 0,\n",
       "       0, 0, 0, 0, 0, 0, 0, 0, 0, 0, 0, 1, 0, 0, 1, 0, 1, 0, 0, 0, 0, 0,\n",
       "       0, 0, 0, 0, 0, 0, 0, 0, 0, 1, 0, 0, 0, 1, 0, 1, 0, 0, 0, 0, 1, 1,\n",
       "       1, 0, 0, 0, 0, 1, 0, 1, 0, 1, 0, 0, 0, 1, 0, 0, 0, 0, 0, 0, 0, 1,\n",
       "       1, 1, 0, 0, 0, 0, 0, 0, 0, 0, 0, 0, 0, 1, 1, 0, 1, 1, 1, 0, 1, 1,\n",
       "       0, 0, 0, 0, 0, 1, 0, 0, 0, 0, 0, 1, 0, 0, 0, 1, 0, 0, 1, 1, 0, 0,\n",
       "       0, 0, 0, 0, 1, 0, 0, 0, 0, 0, 0, 0, 1, 0, 0, 0, 0, 0, 1, 0, 0, 1,\n",
       "       0, 0, 0, 0, 0, 0, 0, 0, 0, 0, 0, 0, 1, 0, 1, 1, 0, 1, 0, 0, 0, 0,\n",
       "       0, 1, 0, 0, 1, 0, 1, 0, 0, 1, 0, 1, 0, 0, 0, 0, 0, 0, 0, 0, 1, 1,\n",
       "       0, 0, 0, 0, 0, 0, 1, 0, 0, 0, 0, 0, 0, 0, 0, 0, 0, 1, 0, 0, 0, 0,\n",
       "       0, 0, 0, 1, 0, 1, 0, 0, 1, 0, 0, 0, 0, 0, 1, 1, 0, 1, 0, 1, 0, 0,\n",
       "       0, 0, 0, 1, 0, 0, 1, 0, 1, 0, 1, 1, 0, 0, 0, 1, 0, 0, 0, 0, 0, 0,\n",
       "       0, 0, 0, 0, 0, 1, 0, 1, 1, 0, 0, 0, 0, 0, 0, 0, 0, 0, 0, 0, 0, 0,\n",
       "       0, 0, 0, 0, 0, 0, 0, 0, 0, 0, 0, 0, 1, 1, 1, 1, 1, 1, 0])"
      ]
     },
     "execution_count": 78,
     "metadata": {},
     "output_type": "execute_result"
    }
   ],
   "source": [
    "y"
   ]
  },
  {
   "cell_type": "code",
   "execution_count": 79,
   "metadata": {},
   "outputs": [],
   "source": [
    "## splitting dataset training and testing data\n",
    "from sklearn.model_selection import train_test_split"
   ]
  },
  {
   "cell_type": "code",
   "execution_count": 80,
   "metadata": {},
   "outputs": [],
   "source": [
    "X_train, X_test, y_train, y_test = train_test_split(X, y, test_size=0.1, random_state=42)"
   ]
  },
  {
   "cell_type": "code",
   "execution_count": 81,
   "metadata": {},
   "outputs": [],
   "source": [
    "from sklearn.preprocessing import StandardScaler"
   ]
  },
  {
   "cell_type": "code",
   "execution_count": 82,
   "metadata": {},
   "outputs": [],
   "source": [
    "sc=StandardScaler()"
   ]
  },
  {
   "cell_type": "code",
   "execution_count": 83,
   "metadata": {},
   "outputs": [],
   "source": [
    "X_train=sc.fit_transform(X_train)\n",
    "X_test=sc.transform(X_test)"
   ]
  },
  {
   "cell_type": "code",
   "execution_count": 84,
   "metadata": {},
   "outputs": [
    {
     "data": {
      "text/plain": [
       "array([[ 3.12133214,  1.30675224,  3.24850994, ...,  2.58371877,\n",
       "        -0.87253269,  1.1393512 ],\n",
       "       [-0.19557389,  0.3548199 , -0.15891666, ...,  1.66351883,\n",
       "        -0.15859547,  1.24813086],\n",
       "       [-0.81431531, -1.45594625, -0.82195021, ..., -0.42619631,\n",
       "        -0.275479  , -0.21386783],\n",
       "       ...,\n",
       "       [ 0.03327567, -0.57616527, -0.08100919, ..., -1.24470585,\n",
       "        -0.70984345, -1.24836245],\n",
       "       [-0.05430873,  0.07552435, -0.04738597, ...,  1.01227716,\n",
       "         0.42898118,  1.16110713],\n",
       "       [-0.56286332,  0.28499602, -0.6173406 , ..., -0.62549742,\n",
       "        -0.33707977, -0.83608752]])"
      ]
     },
     "execution_count": 84,
     "metadata": {},
     "output_type": "execute_result"
    }
   ],
   "source": [
    "X_train"
   ]
  },
  {
   "cell_type": "code",
   "execution_count": 85,
   "metadata": {},
   "outputs": [
    {
     "data": {
      "text/plain": [
       "array([[-0.48092952, -0.16187686, -0.45865539, ..., -0.2146561 ,\n",
       "         0.1683625 ,  0.18209015],\n",
       "       [ 1.34704169,  0.46886559,  1.28442168, ...,  0.9548591 ,\n",
       "        -0.56294929, -0.99327413],\n",
       "       [ 0.36383615,  0.04293987,  0.38643561, ...,  0.53933368,\n",
       "        -0.11121026, -0.21549953],\n",
       "       ...,\n",
       "       [-0.64197181, -1.08122472, -0.5808471 , ..., -0.83537553,\n",
       "        -0.28495604,  1.05776645],\n",
       "       [-0.28315829, -0.25032046, -0.32785285, ..., -0.16932605,\n",
       "        -1.06207354, -0.81052429],\n",
       "       [-1.10814685, -0.72512289, -1.05608265, ..., -0.27600276,\n",
       "        -0.47291739,  0.69988135]])"
      ]
     },
     "execution_count": 85,
     "metadata": {},
     "output_type": "execute_result"
    }
   ],
   "source": [
    "X_test"
   ]
  },
  {
   "cell_type": "markdown",
   "metadata": {},
   "source": [
    "### Now that we have prepared data, we will import Keras and its packages."
   ]
  },
  {
   "cell_type": "code",
   "execution_count": 99,
   "metadata": {},
   "outputs": [],
   "source": [
    "import keras\n",
    "from keras.models import Sequential\n",
    "from keras.layers import Dense\n",
    "from keras.layers import Dropout"
   ]
  },
  {
   "cell_type": "code",
   "execution_count": 100,
   "metadata": {},
   "outputs": [],
   "source": [
    "classifier=Sequential()"
   ]
  },
  {
   "cell_type": "code",
   "execution_count": 101,
   "metadata": {},
   "outputs": [
    {
     "data": {
      "text/plain": [
       "(569, 30)"
      ]
     },
     "execution_count": 101,
     "metadata": {},
     "output_type": "execute_result"
    }
   ],
   "source": [
    "X.shape"
   ]
  },
  {
   "cell_type": "code",
   "execution_count": 102,
   "metadata": {},
   "outputs": [
    {
     "name": "stderr",
     "output_type": "stream",
     "text": [
      "C:\\Users\\guren\\Anaconda3\\lib\\site-packages\\ipykernel_launcher.py:2: UserWarning: Update your `Dropout` call to the Keras 2 API: `Dropout(rate=0.1)`\n",
      "  \n"
     ]
    }
   ],
   "source": [
    "classifier.add(Dense(units=16,kernel_initializer='he_uniform',activation='relu',input_dim=30))\n",
    "classifier.add(Dropout(p=0.1))"
   ]
  },
  {
   "cell_type": "code",
   "execution_count": 103,
   "metadata": {},
   "outputs": [
    {
     "name": "stderr",
     "output_type": "stream",
     "text": [
      "C:\\Users\\guren\\Anaconda3\\lib\\site-packages\\ipykernel_launcher.py:2: UserWarning: Update your `Dropout` call to the Keras 2 API: `Dropout(rate=0.1)`\n",
      "  \n"
     ]
    }
   ],
   "source": [
    "classifier.add(Dense(units=6,kernel_initializer='he_uniform',activation='relu'))\n",
    "classifier.add(Dropout(p=0.1))"
   ]
  },
  {
   "cell_type": "code",
   "execution_count": 104,
   "metadata": {},
   "outputs": [
    {
     "name": "stderr",
     "output_type": "stream",
     "text": [
      "C:\\Users\\guren\\Anaconda3\\lib\\site-packages\\ipykernel_launcher.py:1: UserWarning: Update your `Dense` call to the Keras 2 API: `Dense(kernel_initializer=\"uniform\", activation=\"sigmoid\", units=1)`\n",
      "  \"\"\"Entry point for launching an IPython kernel.\n"
     ]
    }
   ],
   "source": [
    "classifier.add(Dense(output_dim=1,kernel_initializer='uniform',activation='sigmoid'))"
   ]
  },
  {
   "cell_type": "code",
   "execution_count": 105,
   "metadata": {},
   "outputs": [
    {
     "name": "stdout",
     "output_type": "stream",
     "text": [
      "Model: \"sequential_5\"\n",
      "_________________________________________________________________\n",
      "Layer (type)                 Output Shape              Param #   \n",
      "=================================================================\n",
      "dense_18 (Dense)             (None, 16)                496       \n",
      "_________________________________________________________________\n",
      "dropout_2 (Dropout)          (None, 16)                0         \n",
      "_________________________________________________________________\n",
      "dense_19 (Dense)             (None, 6)                 102       \n",
      "_________________________________________________________________\n",
      "dropout_3 (Dropout)          (None, 6)                 0         \n",
      "_________________________________________________________________\n",
      "dense_20 (Dense)             (None, 1)                 7         \n",
      "=================================================================\n",
      "Total params: 605\n",
      "Trainable params: 605\n",
      "Non-trainable params: 0\n",
      "_________________________________________________________________\n"
     ]
    }
   ],
   "source": [
    "classifier.summary()"
   ]
  },
  {
   "cell_type": "code",
   "execution_count": 106,
   "metadata": {},
   "outputs": [],
   "source": [
    "classifier.compile(optimizer='adamax',loss='binary_crossentropy',metrics=['accuracy'])"
   ]
  },
  {
   "cell_type": "code",
   "execution_count": 107,
   "metadata": {},
   "outputs": [
    {
     "name": "stderr",
     "output_type": "stream",
     "text": [
      "C:\\Users\\guren\\Anaconda3\\lib\\site-packages\\ipykernel_launcher.py:1: UserWarning: The `nb_epoch` argument in `fit` has been renamed `epochs`.\n",
      "  \"\"\"Entry point for launching an IPython kernel.\n"
     ]
    },
    {
     "name": "stdout",
     "output_type": "stream",
     "text": [
      "Train on 343 samples, validate on 169 samples\n",
      "Epoch 1/150\n",
      "343/343 [==============================] - 0s 1ms/step - loss: 0.6981 - accuracy: 0.3586 - val_loss: 0.6923 - val_accuracy: 0.4852\n",
      "Epoch 2/150\n",
      "343/343 [==============================] - 0s 38us/step - loss: 0.6908 - accuracy: 0.5714 - val_loss: 0.6874 - val_accuracy: 0.6982\n",
      "Epoch 3/150\n",
      "343/343 [==============================] - 0s 47us/step - loss: 0.6856 - accuracy: 0.6910 - val_loss: 0.6829 - val_accuracy: 0.7515\n",
      "Epoch 4/150\n",
      "343/343 [==============================] - 0s 47us/step - loss: 0.6814 - accuracy: 0.7405 - val_loss: 0.6781 - val_accuracy: 0.7278\n",
      "Epoch 5/150\n",
      "343/343 [==============================] - 0s 64us/step - loss: 0.6734 - accuracy: 0.7697 - val_loss: 0.6730 - val_accuracy: 0.7337\n",
      "Epoch 6/150\n",
      "343/343 [==============================] - 0s 64us/step - loss: 0.6689 - accuracy: 0.7755 - val_loss: 0.6675 - val_accuracy: 0.7337\n",
      "Epoch 7/150\n",
      "343/343 [==============================] - 0s 55us/step - loss: 0.6616 - accuracy: 0.7872 - val_loss: 0.6610 - val_accuracy: 0.7456\n",
      "Epoch 8/150\n",
      "343/343 [==============================] - 0s 64us/step - loss: 0.6563 - accuracy: 0.8163 - val_loss: 0.6536 - val_accuracy: 0.7870\n",
      "Epoch 9/150\n",
      "343/343 [==============================] - 0s 60us/step - loss: 0.6461 - accuracy: 0.8309 - val_loss: 0.6448 - val_accuracy: 0.7988\n",
      "Epoch 10/150\n",
      "343/343 [==============================] - 0s 63us/step - loss: 0.6356 - accuracy: 0.8426 - val_loss: 0.6348 - val_accuracy: 0.8284\n",
      "Epoch 11/150\n",
      "343/343 [==============================] - 0s 70us/step - loss: 0.6258 - accuracy: 0.8542 - val_loss: 0.6238 - val_accuracy: 0.8402\n",
      "Epoch 12/150\n",
      "343/343 [==============================] - 0s 50us/step - loss: 0.6142 - accuracy: 0.8746 - val_loss: 0.6116 - val_accuracy: 0.8757\n",
      "Epoch 13/150\n",
      "343/343 [==============================] - 0s 58us/step - loss: 0.6048 - accuracy: 0.8805 - val_loss: 0.5982 - val_accuracy: 0.8757\n",
      "Epoch 14/150\n",
      "343/343 [==============================] - 0s 64us/step - loss: 0.5861 - accuracy: 0.8980 - val_loss: 0.5837 - val_accuracy: 0.8817\n",
      "Epoch 15/150\n",
      "343/343 [==============================] - 0s 58us/step - loss: 0.5740 - accuracy: 0.9096 - val_loss: 0.5698 - val_accuracy: 0.8876\n",
      "Epoch 16/150\n",
      "343/343 [==============================] - 0s 55us/step - loss: 0.5549 - accuracy: 0.9067 - val_loss: 0.5543 - val_accuracy: 0.8876\n",
      "Epoch 17/150\n",
      "343/343 [==============================] - 0s 47us/step - loss: 0.5427 - accuracy: 0.9009 - val_loss: 0.5375 - val_accuracy: 0.8935\n",
      "Epoch 18/150\n",
      "343/343 [==============================] - 0s 55us/step - loss: 0.5309 - accuracy: 0.9359 - val_loss: 0.5196 - val_accuracy: 0.9112\n",
      "Epoch 19/150\n",
      "343/343 [==============================] - 0s 54us/step - loss: 0.5021 - accuracy: 0.9359 - val_loss: 0.5009 - val_accuracy: 0.9112\n",
      "Epoch 20/150\n",
      "343/343 [==============================] - 0s 50us/step - loss: 0.4874 - accuracy: 0.9388 - val_loss: 0.4817 - val_accuracy: 0.9112\n",
      "Epoch 21/150\n",
      "343/343 [==============================] - 0s 50us/step - loss: 0.4731 - accuracy: 0.9096 - val_loss: 0.4616 - val_accuracy: 0.9112\n",
      "Epoch 22/150\n",
      "343/343 [==============================] - 0s 47us/step - loss: 0.4510 - accuracy: 0.9300 - val_loss: 0.4413 - val_accuracy: 0.9112\n",
      "Epoch 23/150\n",
      "343/343 [==============================] - 0s 50us/step - loss: 0.4285 - accuracy: 0.9329 - val_loss: 0.4206 - val_accuracy: 0.9112\n",
      "Epoch 24/150\n",
      "343/343 [==============================] - 0s 58us/step - loss: 0.4048 - accuracy: 0.9475 - val_loss: 0.3997 - val_accuracy: 0.9112\n",
      "Epoch 25/150\n",
      "343/343 [==============================] - 0s 44us/step - loss: 0.3915 - accuracy: 0.9388 - val_loss: 0.3790 - val_accuracy: 0.9172\n",
      "Epoch 26/150\n",
      "343/343 [==============================] - 0s 58us/step - loss: 0.3735 - accuracy: 0.9417 - val_loss: 0.3591 - val_accuracy: 0.9172\n",
      "Epoch 27/150\n",
      "343/343 [==============================] - 0s 50us/step - loss: 0.3464 - accuracy: 0.9475 - val_loss: 0.3400 - val_accuracy: 0.9231\n",
      "Epoch 28/150\n",
      "343/343 [==============================] - 0s 55us/step - loss: 0.3273 - accuracy: 0.9417 - val_loss: 0.3220 - val_accuracy: 0.9231\n",
      "Epoch 29/150\n",
      "343/343 [==============================] - 0s 55us/step - loss: 0.3087 - accuracy: 0.9475 - val_loss: 0.3051 - val_accuracy: 0.9231\n",
      "Epoch 30/150\n",
      "343/343 [==============================] - 0s 102us/step - loss: 0.2940 - accuracy: 0.9534 - val_loss: 0.2892 - val_accuracy: 0.9231\n",
      "Epoch 31/150\n",
      "343/343 [==============================] - 0s 67us/step - loss: 0.2884 - accuracy: 0.9417 - val_loss: 0.2746 - val_accuracy: 0.9231\n",
      "Epoch 32/150\n",
      "343/343 [==============================] - 0s 52us/step - loss: 0.2693 - accuracy: 0.9534 - val_loss: 0.2611 - val_accuracy: 0.9231\n",
      "Epoch 33/150\n",
      "343/343 [==============================] - 0s 69us/step - loss: 0.2522 - accuracy: 0.9592 - val_loss: 0.2487 - val_accuracy: 0.9231\n",
      "Epoch 34/150\n",
      "343/343 [==============================] - 0s 76us/step - loss: 0.2496 - accuracy: 0.9592 - val_loss: 0.2375 - val_accuracy: 0.9231\n",
      "Epoch 35/150\n",
      "343/343 [==============================] - 0s 168us/step - loss: 0.2336 - accuracy: 0.9563 - val_loss: 0.2274 - val_accuracy: 0.9231\n",
      "Epoch 36/150\n",
      "343/343 [==============================] - 0s 93us/step - loss: 0.2276 - accuracy: 0.9592 - val_loss: 0.2181 - val_accuracy: 0.9290\n",
      "Epoch 37/150\n",
      "343/343 [==============================] - 0s 67us/step - loss: 0.2146 - accuracy: 0.9621 - val_loss: 0.2097 - val_accuracy: 0.9290\n",
      "Epoch 38/150\n",
      "343/343 [==============================] - 0s 55us/step - loss: 0.2053 - accuracy: 0.9621 - val_loss: 0.2022 - val_accuracy: 0.9290\n",
      "Epoch 39/150\n",
      "343/343 [==============================] - 0s 50us/step - loss: 0.1976 - accuracy: 0.9621 - val_loss: 0.1955 - val_accuracy: 0.9349\n",
      "Epoch 40/150\n",
      "343/343 [==============================] - 0s 50us/step - loss: 0.1894 - accuracy: 0.9738 - val_loss: 0.1893 - val_accuracy: 0.9349\n",
      "Epoch 41/150\n",
      "343/343 [==============================] - 0s 50us/step - loss: 0.1744 - accuracy: 0.9708 - val_loss: 0.1835 - val_accuracy: 0.9349\n",
      "Epoch 42/150\n",
      "343/343 [==============================] - 0s 44us/step - loss: 0.1736 - accuracy: 0.9679 - val_loss: 0.1782 - val_accuracy: 0.9349\n",
      "Epoch 43/150\n",
      "343/343 [==============================] - 0s 69us/step - loss: 0.1708 - accuracy: 0.9738 - val_loss: 0.1734 - val_accuracy: 0.9349\n",
      "Epoch 44/150\n",
      "343/343 [==============================] - 0s 44us/step - loss: 0.1643 - accuracy: 0.9679 - val_loss: 0.1691 - val_accuracy: 0.9349\n",
      "Epoch 45/150\n",
      "343/343 [==============================] - ETA: 0s - loss: 0.1430 - accuracy: 0.96 - 0s 50us/step - loss: 0.1647 - accuracy: 0.9650 - val_loss: 0.1652 - val_accuracy: 0.9349\n",
      "Epoch 46/150\n",
      "343/343 [==============================] - 0s 55us/step - loss: 0.1399 - accuracy: 0.9738 - val_loss: 0.1615 - val_accuracy: 0.9349\n",
      "Epoch 47/150\n",
      "343/343 [==============================] - 0s 51us/step - loss: 0.1436 - accuracy: 0.9708 - val_loss: 0.1581 - val_accuracy: 0.9349\n",
      "Epoch 48/150\n",
      "343/343 [==============================] - 0s 41us/step - loss: 0.1493 - accuracy: 0.9650 - val_loss: 0.1550 - val_accuracy: 0.9349\n",
      "Epoch 49/150\n",
      "343/343 [==============================] - 0s 41us/step - loss: 0.1513 - accuracy: 0.9563 - val_loss: 0.1521 - val_accuracy: 0.9349\n",
      "Epoch 50/150\n",
      "343/343 [==============================] - 0s 50us/step - loss: 0.1375 - accuracy: 0.9679 - val_loss: 0.1496 - val_accuracy: 0.9349\n",
      "Epoch 51/150\n",
      "343/343 [==============================] - 0s 44us/step - loss: 0.1330 - accuracy: 0.9621 - val_loss: 0.1472 - val_accuracy: 0.9349\n",
      "Epoch 52/150\n",
      "343/343 [==============================] - 0s 50us/step - loss: 0.1362 - accuracy: 0.9708 - val_loss: 0.1449 - val_accuracy: 0.9349\n",
      "Epoch 53/150\n",
      "343/343 [==============================] - 0s 44us/step - loss: 0.1271 - accuracy: 0.9767 - val_loss: 0.1428 - val_accuracy: 0.9408\n",
      "Epoch 54/150\n",
      "343/343 [==============================] - 0s 41us/step - loss: 0.1229 - accuracy: 0.9708 - val_loss: 0.1409 - val_accuracy: 0.9408\n",
      "Epoch 55/150\n",
      "343/343 [==============================] - 0s 44us/step - loss: 0.1186 - accuracy: 0.9767 - val_loss: 0.1392 - val_accuracy: 0.9408\n",
      "Epoch 56/150\n",
      "343/343 [==============================] - 0s 58us/step - loss: 0.1235 - accuracy: 0.9738 - val_loss: 0.1375 - val_accuracy: 0.9408\n",
      "Epoch 57/150\n",
      "343/343 [==============================] - 0s 47us/step - loss: 0.1193 - accuracy: 0.9796 - val_loss: 0.1358 - val_accuracy: 0.9408\n",
      "Epoch 58/150\n",
      "343/343 [==============================] - 0s 44us/step - loss: 0.1158 - accuracy: 0.9708 - val_loss: 0.1344 - val_accuracy: 0.9408\n",
      "Epoch 59/150\n",
      "343/343 [==============================] - 0s 44us/step - loss: 0.1100 - accuracy: 0.9738 - val_loss: 0.1330 - val_accuracy: 0.9467\n",
      "Epoch 60/150\n",
      "343/343 [==============================] - 0s 44us/step - loss: 0.1099 - accuracy: 0.9767 - val_loss: 0.1316 - val_accuracy: 0.9467\n",
      "Epoch 61/150\n",
      "343/343 [==============================] - 0s 44us/step - loss: 0.1168 - accuracy: 0.9796 - val_loss: 0.1304 - val_accuracy: 0.9467\n",
      "Epoch 62/150\n",
      "343/343 [==============================] - 0s 50us/step - loss: 0.1102 - accuracy: 0.9767 - val_loss: 0.1292 - val_accuracy: 0.9467\n",
      "Epoch 63/150\n",
      "343/343 [==============================] - 0s 47us/step - loss: 0.1086 - accuracy: 0.9738 - val_loss: 0.1281 - val_accuracy: 0.9527\n",
      "Epoch 64/150\n",
      "343/343 [==============================] - 0s 50us/step - loss: 0.1185 - accuracy: 0.9650 - val_loss: 0.1269 - val_accuracy: 0.9527\n",
      "Epoch 65/150\n",
      "343/343 [==============================] - 0s 41us/step - loss: 0.0994 - accuracy: 0.9854 - val_loss: 0.1259 - val_accuracy: 0.9527\n",
      "Epoch 66/150\n",
      "343/343 [==============================] - 0s 44us/step - loss: 0.1057 - accuracy: 0.9738 - val_loss: 0.1248 - val_accuracy: 0.9527\n",
      "Epoch 67/150\n",
      "343/343 [==============================] - 0s 50us/step - loss: 0.1071 - accuracy: 0.9738 - val_loss: 0.1238 - val_accuracy: 0.9527\n",
      "Epoch 68/150\n",
      "343/343 [==============================] - 0s 52us/step - loss: 0.1013 - accuracy: 0.9767 - val_loss: 0.1230 - val_accuracy: 0.9527\n",
      "Epoch 69/150\n",
      "343/343 [==============================] - ETA: 0s - loss: 0.0906 - accuracy: 0.96 - 0s 50us/step - loss: 0.0912 - accuracy: 0.9767 - val_loss: 0.1221 - val_accuracy: 0.9527\n",
      "Epoch 70/150\n",
      "343/343 [==============================] - 0s 58us/step - loss: 0.1042 - accuracy: 0.9708 - val_loss: 0.1212 - val_accuracy: 0.9527\n",
      "Epoch 71/150\n",
      "343/343 [==============================] - 0s 61us/step - loss: 0.1013 - accuracy: 0.9796 - val_loss: 0.1204 - val_accuracy: 0.9527\n",
      "Epoch 72/150\n",
      "343/343 [==============================] - 0s 58us/step - loss: 0.1044 - accuracy: 0.9679 - val_loss: 0.1196 - val_accuracy: 0.9527\n",
      "Epoch 73/150\n",
      "343/343 [==============================] - 0s 87us/step - loss: 0.0965 - accuracy: 0.9767 - val_loss: 0.1188 - val_accuracy: 0.9527\n",
      "Epoch 74/150\n",
      "343/343 [==============================] - 0s 61us/step - loss: 0.0842 - accuracy: 0.9796 - val_loss: 0.1180 - val_accuracy: 0.9527\n",
      "Epoch 75/150\n",
      "343/343 [==============================] - 0s 52us/step - loss: 0.0900 - accuracy: 0.9767 - val_loss: 0.1173 - val_accuracy: 0.9586\n",
      "Epoch 76/150\n",
      "343/343 [==============================] - 0s 50us/step - loss: 0.0973 - accuracy: 0.9738 - val_loss: 0.1167 - val_accuracy: 0.9586\n",
      "Epoch 77/150\n",
      "343/343 [==============================] - 0s 58us/step - loss: 0.0938 - accuracy: 0.9708 - val_loss: 0.1161 - val_accuracy: 0.9586\n",
      "Epoch 78/150\n",
      "343/343 [==============================] - 0s 52us/step - loss: 0.0945 - accuracy: 0.9738 - val_loss: 0.1155 - val_accuracy: 0.9586\n",
      "Epoch 79/150\n",
      "343/343 [==============================] - 0s 55us/step - loss: 0.0918 - accuracy: 0.9738 - val_loss: 0.1148 - val_accuracy: 0.9586\n",
      "Epoch 80/150\n",
      "343/343 [==============================] - 0s 50us/step - loss: 0.0920 - accuracy: 0.9708 - val_loss: 0.1141 - val_accuracy: 0.9586\n",
      "Epoch 81/150\n",
      "343/343 [==============================] - 0s 70us/step - loss: 0.0833 - accuracy: 0.9767 - val_loss: 0.1136 - val_accuracy: 0.9586\n",
      "Epoch 82/150\n",
      "343/343 [==============================] - 0s 50us/step - loss: 0.0763 - accuracy: 0.9708 - val_loss: 0.1131 - val_accuracy: 0.9586\n",
      "Epoch 83/150\n",
      "343/343 [==============================] - 0s 50us/step - loss: 0.0850 - accuracy: 0.9796 - val_loss: 0.1127 - val_accuracy: 0.9586\n",
      "Epoch 84/150\n",
      "343/343 [==============================] - 0s 55us/step - loss: 0.0816 - accuracy: 0.9796 - val_loss: 0.1123 - val_accuracy: 0.9586\n",
      "Epoch 85/150\n",
      "343/343 [==============================] - 0s 55us/step - loss: 0.0807 - accuracy: 0.9796 - val_loss: 0.1119 - val_accuracy: 0.9586\n",
      "Epoch 86/150\n",
      "343/343 [==============================] - 0s 50us/step - loss: 0.0947 - accuracy: 0.9738 - val_loss: 0.1115 - val_accuracy: 0.9645\n",
      "Epoch 87/150\n",
      "343/343 [==============================] - 0s 52us/step - loss: 0.0765 - accuracy: 0.9825 - val_loss: 0.1111 - val_accuracy: 0.9645\n",
      "Epoch 88/150\n",
      "343/343 [==============================] - 0s 61us/step - loss: 0.0898 - accuracy: 0.9738 - val_loss: 0.1106 - val_accuracy: 0.9645\n",
      "Epoch 89/150\n",
      "343/343 [==============================] - 0s 79us/step - loss: 0.0807 - accuracy: 0.9796 - val_loss: 0.1103 - val_accuracy: 0.9645\n",
      "Epoch 90/150\n",
      "343/343 [==============================] - 0s 50us/step - loss: 0.0811 - accuracy: 0.9738 - val_loss: 0.1100 - val_accuracy: 0.9645\n",
      "Epoch 91/150\n",
      "343/343 [==============================] - 0s 55us/step - loss: 0.0875 - accuracy: 0.9738 - val_loss: 0.1097 - val_accuracy: 0.9645\n",
      "Epoch 92/150\n",
      "343/343 [==============================] - 0s 82us/step - loss: 0.0833 - accuracy: 0.9767 - val_loss: 0.1093 - val_accuracy: 0.9645\n",
      "Epoch 93/150\n",
      "343/343 [==============================] - 0s 55us/step - loss: 0.0687 - accuracy: 0.9825 - val_loss: 0.1090 - val_accuracy: 0.9645\n",
      "Epoch 94/150\n",
      "343/343 [==============================] - 0s 58us/step - loss: 0.0734 - accuracy: 0.9854 - val_loss: 0.1087 - val_accuracy: 0.9645\n",
      "Epoch 95/150\n",
      "343/343 [==============================] - 0s 64us/step - loss: 0.0841 - accuracy: 0.9796 - val_loss: 0.1084 - val_accuracy: 0.9645\n",
      "Epoch 96/150\n",
      "343/343 [==============================] - 0s 47us/step - loss: 0.0666 - accuracy: 0.9767 - val_loss: 0.1082 - val_accuracy: 0.9645\n",
      "Epoch 97/150\n",
      "343/343 [==============================] - 0s 47us/step - loss: 0.0810 - accuracy: 0.9796 - val_loss: 0.1080 - val_accuracy: 0.9645\n",
      "Epoch 98/150\n",
      "343/343 [==============================] - 0s 44us/step - loss: 0.0832 - accuracy: 0.9796 - val_loss: 0.1078 - val_accuracy: 0.9645\n",
      "Epoch 99/150\n",
      "343/343 [==============================] - 0s 41us/step - loss: 0.0767 - accuracy: 0.9825 - val_loss: 0.1076 - val_accuracy: 0.9645\n",
      "Epoch 100/150\n",
      "343/343 [==============================] - 0s 47us/step - loss: 0.0573 - accuracy: 0.9825 - val_loss: 0.1074 - val_accuracy: 0.9645\n",
      "Epoch 101/150\n",
      "343/343 [==============================] - 0s 41us/step - loss: 0.0740 - accuracy: 0.9825 - val_loss: 0.1072 - val_accuracy: 0.9645\n",
      "Epoch 102/150\n",
      "343/343 [==============================] - 0s 41us/step - loss: 0.0826 - accuracy: 0.9767 - val_loss: 0.1070 - val_accuracy: 0.9645\n",
      "Epoch 103/150\n",
      "343/343 [==============================] - 0s 44us/step - loss: 0.0763 - accuracy: 0.9738 - val_loss: 0.1067 - val_accuracy: 0.9645\n",
      "Epoch 104/150\n",
      "343/343 [==============================] - 0s 58us/step - loss: 0.0707 - accuracy: 0.9796 - val_loss: 0.1065 - val_accuracy: 0.9645\n",
      "Epoch 105/150\n",
      "343/343 [==============================] - 0s 58us/step - loss: 0.0684 - accuracy: 0.9796 - val_loss: 0.1063 - val_accuracy: 0.9704\n",
      "Epoch 106/150\n",
      "343/343 [==============================] - 0s 47us/step - loss: 0.0679 - accuracy: 0.9796 - val_loss: 0.1062 - val_accuracy: 0.9704\n",
      "Epoch 107/150\n",
      "343/343 [==============================] - 0s 47us/step - loss: 0.0663 - accuracy: 0.9796 - val_loss: 0.1060 - val_accuracy: 0.9704\n",
      "Epoch 108/150\n",
      "343/343 [==============================] - 0s 47us/step - loss: 0.0743 - accuracy: 0.9767 - val_loss: 0.1058 - val_accuracy: 0.9704\n",
      "Epoch 109/150\n",
      "343/343 [==============================] - 0s 47us/step - loss: 0.0772 - accuracy: 0.9767 - val_loss: 0.1055 - val_accuracy: 0.9704\n",
      "Epoch 110/150\n",
      "343/343 [==============================] - 0s 47us/step - loss: 0.0592 - accuracy: 0.9796 - val_loss: 0.1054 - val_accuracy: 0.9704\n",
      "Epoch 111/150\n",
      "343/343 [==============================] - 0s 50us/step - loss: 0.0662 - accuracy: 0.9854 - val_loss: 0.1053 - val_accuracy: 0.9704\n",
      "Epoch 112/150\n",
      "343/343 [==============================] - 0s 44us/step - loss: 0.0684 - accuracy: 0.9883 - val_loss: 0.1052 - val_accuracy: 0.9704\n",
      "Epoch 113/150\n",
      "343/343 [==============================] - 0s 44us/step - loss: 0.0632 - accuracy: 0.9825 - val_loss: 0.1050 - val_accuracy: 0.9704\n",
      "Epoch 114/150\n",
      "343/343 [==============================] - 0s 41us/step - loss: 0.0729 - accuracy: 0.9796 - val_loss: 0.1048 - val_accuracy: 0.9704\n",
      "Epoch 115/150\n",
      "343/343 [==============================] - 0s 41us/step - loss: 0.0732 - accuracy: 0.9825 - val_loss: 0.1046 - val_accuracy: 0.9704\n",
      "Epoch 116/150\n",
      "343/343 [==============================] - 0s 47us/step - loss: 0.0617 - accuracy: 0.9796 - val_loss: 0.1044 - val_accuracy: 0.9704\n",
      "Epoch 117/150\n",
      "343/343 [==============================] - 0s 61us/step - loss: 0.0596 - accuracy: 0.9825 - val_loss: 0.1043 - val_accuracy: 0.9704\n",
      "Epoch 118/150\n",
      "343/343 [==============================] - 0s 50us/step - loss: 0.0603 - accuracy: 0.9796 - val_loss: 0.1041 - val_accuracy: 0.9704\n",
      "Epoch 119/150\n",
      "343/343 [==============================] - 0s 50us/step - loss: 0.0620 - accuracy: 0.9796 - val_loss: 0.1039 - val_accuracy: 0.9704\n",
      "Epoch 120/150\n",
      "343/343 [==============================] - 0s 44us/step - loss: 0.0706 - accuracy: 0.9796 - val_loss: 0.1038 - val_accuracy: 0.9704\n",
      "Epoch 121/150\n",
      "343/343 [==============================] - 0s 41us/step - loss: 0.0682 - accuracy: 0.9825 - val_loss: 0.1037 - val_accuracy: 0.9704\n",
      "Epoch 122/150\n",
      "343/343 [==============================] - 0s 47us/step - loss: 0.0708 - accuracy: 0.9738 - val_loss: 0.1035 - val_accuracy: 0.9704\n",
      "Epoch 123/150\n",
      "343/343 [==============================] - 0s 44us/step - loss: 0.0685 - accuracy: 0.9796 - val_loss: 0.1032 - val_accuracy: 0.9704\n",
      "Epoch 124/150\n",
      "343/343 [==============================] - 0s 44us/step - loss: 0.0605 - accuracy: 0.9796 - val_loss: 0.1030 - val_accuracy: 0.9704\n",
      "Epoch 125/150\n",
      "343/343 [==============================] - 0s 44us/step - loss: 0.0618 - accuracy: 0.9825 - val_loss: 0.1028 - val_accuracy: 0.9704\n",
      "Epoch 126/150\n",
      "343/343 [==============================] - 0s 47us/step - loss: 0.0642 - accuracy: 0.9825 - val_loss: 0.1026 - val_accuracy: 0.9704\n",
      "Epoch 127/150\n",
      "343/343 [==============================] - 0s 41us/step - loss: 0.0718 - accuracy: 0.9767 - val_loss: 0.1025 - val_accuracy: 0.9704\n",
      "Epoch 128/150\n",
      "343/343 [==============================] - 0s 41us/step - loss: 0.0658 - accuracy: 0.9854 - val_loss: 0.1024 - val_accuracy: 0.9704\n",
      "Epoch 129/150\n",
      "343/343 [==============================] - 0s 38us/step - loss: 0.0600 - accuracy: 0.9825 - val_loss: 0.1022 - val_accuracy: 0.9704\n",
      "Epoch 130/150\n",
      "343/343 [==============================] - 0s 50us/step - loss: 0.0547 - accuracy: 0.9796 - val_loss: 0.1020 - val_accuracy: 0.9704\n",
      "Epoch 131/150\n",
      "343/343 [==============================] - 0s 47us/step - loss: 0.0614 - accuracy: 0.9825 - val_loss: 0.1019 - val_accuracy: 0.9704\n",
      "Epoch 132/150\n",
      "343/343 [==============================] - 0s 44us/step - loss: 0.0580 - accuracy: 0.9825 - val_loss: 0.1018 - val_accuracy: 0.9704\n",
      "Epoch 133/150\n",
      "343/343 [==============================] - 0s 41us/step - loss: 0.0502 - accuracy: 0.9825 - val_loss: 0.1018 - val_accuracy: 0.9704\n",
      "Epoch 134/150\n",
      "343/343 [==============================] - 0s 41us/step - loss: 0.0592 - accuracy: 0.9825 - val_loss: 0.1018 - val_accuracy: 0.9704\n",
      "Epoch 135/150\n",
      "343/343 [==============================] - 0s 44us/step - loss: 0.0495 - accuracy: 0.9883 - val_loss: 0.1018 - val_accuracy: 0.9704\n",
      "Epoch 136/150\n",
      "343/343 [==============================] - 0s 44us/step - loss: 0.0633 - accuracy: 0.9825 - val_loss: 0.1017 - val_accuracy: 0.9704\n",
      "Epoch 137/150\n",
      "343/343 [==============================] - 0s 44us/step - loss: 0.0554 - accuracy: 0.9825 - val_loss: 0.1015 - val_accuracy: 0.9704\n",
      "Epoch 138/150\n",
      "343/343 [==============================] - 0s 41us/step - loss: 0.0574 - accuracy: 0.9825 - val_loss: 0.1015 - val_accuracy: 0.9704\n",
      "Epoch 139/150\n",
      "343/343 [==============================] - 0s 47us/step - loss: 0.0590 - accuracy: 0.9738 - val_loss: 0.1014 - val_accuracy: 0.9704\n",
      "Epoch 140/150\n",
      "343/343 [==============================] - 0s 52us/step - loss: 0.0592 - accuracy: 0.9738 - val_loss: 0.1013 - val_accuracy: 0.9704\n",
      "Epoch 141/150\n",
      "343/343 [==============================] - 0s 41us/step - loss: 0.0624 - accuracy: 0.9825 - val_loss: 0.1012 - val_accuracy: 0.9704\n",
      "Epoch 142/150\n",
      "343/343 [==============================] - 0s 44us/step - loss: 0.0648 - accuracy: 0.9796 - val_loss: 0.1010 - val_accuracy: 0.9704\n",
      "Epoch 143/150\n",
      "343/343 [==============================] - 0s 44us/step - loss: 0.0614 - accuracy: 0.9796 - val_loss: 0.1008 - val_accuracy: 0.9704\n",
      "Epoch 144/150\n",
      "343/343 [==============================] - 0s 61us/step - loss: 0.0559 - accuracy: 0.9825 - val_loss: 0.1006 - val_accuracy: 0.9704\n",
      "Epoch 145/150\n",
      "343/343 [==============================] - 0s 52us/step - loss: 0.0516 - accuracy: 0.9854 - val_loss: 0.1005 - val_accuracy: 0.9704\n",
      "Epoch 146/150\n",
      "343/343 [==============================] - 0s 47us/step - loss: 0.0550 - accuracy: 0.9796 - val_loss: 0.1003 - val_accuracy: 0.9704\n",
      "Epoch 147/150\n",
      "343/343 [==============================] - 0s 52us/step - loss: 0.0556 - accuracy: 0.9767 - val_loss: 0.1001 - val_accuracy: 0.9704\n",
      "Epoch 148/150\n",
      "343/343 [==============================] - 0s 52us/step - loss: 0.0588 - accuracy: 0.9854 - val_loss: 0.1000 - val_accuracy: 0.9704\n",
      "Epoch 149/150\n",
      "343/343 [==============================] - 0s 50us/step - loss: 0.0501 - accuracy: 0.9825 - val_loss: 0.1000 - val_accuracy: 0.9704\n",
      "Epoch 150/150\n",
      "343/343 [==============================] - 0s 52us/step - loss: 0.0555 - accuracy: 0.9854 - val_loss: 0.0999 - val_accuracy: 0.9704\n"
     ]
    },
    {
     "data": {
      "text/plain": [
       "<keras.callbacks.callbacks.History at 0x1b0e6bd7518>"
      ]
     },
     "execution_count": 107,
     "metadata": {},
     "output_type": "execute_result"
    }
   ],
   "source": [
    "classifier.fit(X_train,y_train,validation_split=0.33,batch_size=100,nb_epoch=150)"
   ]
  },
  {
   "cell_type": "code",
   "execution_count": null,
   "metadata": {},
   "outputs": [],
   "source": []
  },
  {
   "cell_type": "code",
   "execution_count": 108,
   "metadata": {},
   "outputs": [],
   "source": [
    "# Part 3 - Making the predictions and evaluating the model\n",
    "# Predicting the Test set results\n",
    "y_pred = classifier.predict(X_test)\n",
    "y_pred = (y_pred > 0.5)"
   ]
  },
  {
   "cell_type": "code",
   "execution_count": 109,
   "metadata": {},
   "outputs": [],
   "source": [
    "# Making the Confusion Matrix\n",
    "from sklearn.metrics import confusion_matrix\n",
    "cm = confusion_matrix(y_test, y_pred)"
   ]
  },
  {
   "cell_type": "code",
   "execution_count": 111,
   "metadata": {},
   "outputs": [
    {
     "data": {
      "text/plain": [
       "array([[40,  0],\n",
       "       [ 1, 16]], dtype=int64)"
      ]
     },
     "execution_count": 111,
     "metadata": {},
     "output_type": "execute_result"
    }
   ],
   "source": [
    "cm"
   ]
  },
  {
   "cell_type": "code",
   "execution_count": 113,
   "metadata": {},
   "outputs": [
    {
     "name": "stdout",
     "output_type": "stream",
     "text": [
      "Our accuracy is 98.24561403508771%\n"
     ]
    }
   ],
   "source": [
    "print(\"Our accuracy is {}%\".format(((cm[0][0] + cm[1][1])/57)*100))"
   ]
  },
  {
   "cell_type": "code",
   "execution_count": 114,
   "metadata": {},
   "outputs": [
    {
     "data": {
      "image/png": "[encoded data removed]",
      "text/plain": [
       "<Figure size 432x288 with 2 Axes>"
      ]
     },
     "metadata": {
      "needs_background": "light"
     },
     "output_type": "display_data"
    }
   ],
   "source": [
    "sns.heatmap(cm,annot=True)\n",
    "plt.savefig('h.png')"
   ]
  },
  {
   "cell_type": "code",
   "execution_count": null,
   "metadata": {},
   "outputs": [],
   "source": []
  }
 ],
 "metadata": {
  "kernelspec": {
   "display_name": "Python 3",
   "language": "python",
   "name": "python3"
  },
  "language_info": {
   "codemirror_mode": {
    "name": "ipython",
    "version": 3
   },
   "file_extension": ".py",
   "mimetype": "text/x-python",
   "name": "python",
   "nbconvert_exporter": "python",
   "pygments_lexer": "ipython3",
   "version": "3.7.3"
  }
 },
 "nbformat": 4,
 "nbformat_minor": 4
}
